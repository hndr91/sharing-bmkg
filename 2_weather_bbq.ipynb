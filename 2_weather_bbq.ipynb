{
 "cells": [
  {
   "attachments": {},
   "cell_type": "markdown",
   "metadata": {},
   "source": [
    "# Contoh Klasifikasi"
   ]
  },
  {
   "attachments": {},
   "cell_type": "markdown",
   "metadata": {},
   "source": [
    "Pada contoh ini kita akan melakukan klasifikasi untuk kasus apakah berdasarkan data cuaca yang ada, cocok dengan kondisi 'BBQ Weather' di Kota Basel. Untuk memprediksi apakah data cuaca cocok dengan kondisi 'BBQ Weather' maka kita akan coba memprediksinya dengan menggunakan model klasifikasi\n",
    "\n",
    "***Disclaimer***\n",
    "> Data didapatkan dari [https://github.com/florian-huber/weather_prediction_dataset](https://github.com/florian-huber/weather_prediction_dataset) dengan sedikit modifikasi untuk keperluan contoh"
   ]
  },
  {
   "attachments": {},
   "cell_type": "markdown",
   "metadata": {},
   "source": [
    "## Persiapan Data"
   ]
  },
  {
   "attachments": {},
   "cell_type": "markdown",
   "metadata": {},
   "source": [
    "### Load Data"
   ]
  },
  {
   "cell_type": "code",
   "execution_count": 9,
   "metadata": {},
   "outputs": [
    {
     "data": {
      "text/html": [
       "<div>\n",
       "<style scoped>\n",
       "    .dataframe tbody tr th:only-of-type {\n",
       "        vertical-align: middle;\n",
       "    }\n",
       "\n",
       "    .dataframe tbody tr th {\n",
       "        vertical-align: top;\n",
       "    }\n",
       "\n",
       "    .dataframe thead th {\n",
       "        text-align: right;\n",
       "    }\n",
       "</style>\n",
       "<table border=\"1\" class=\"dataframe\">\n",
       "  <thead>\n",
       "    <tr style=\"text-align: right;\">\n",
       "      <th></th>\n",
       "      <th>Unnamed: 0</th>\n",
       "      <th>BASEL_cloud_cover</th>\n",
       "      <th>BASEL_humidity</th>\n",
       "      <th>BASEL_pressure</th>\n",
       "      <th>BASEL_global_radiation</th>\n",
       "      <th>BASEL_precipitation</th>\n",
       "      <th>BASEL_sunshine</th>\n",
       "      <th>BASEL_temp_mean</th>\n",
       "      <th>BASEL_temp_min</th>\n",
       "      <th>BASEL_temp_max</th>\n",
       "      <th>BASEL_BBQ_weather</th>\n",
       "    </tr>\n",
       "  </thead>\n",
       "  <tbody>\n",
       "    <tr>\n",
       "      <th>0</th>\n",
       "      <td>0</td>\n",
       "      <td>8</td>\n",
       "      <td>0.89</td>\n",
       "      <td>1.0286</td>\n",
       "      <td>0.20</td>\n",
       "      <td>0.03</td>\n",
       "      <td>0.0</td>\n",
       "      <td>2.9</td>\n",
       "      <td>1.6</td>\n",
       "      <td>3.9</td>\n",
       "      <td>False</td>\n",
       "    </tr>\n",
       "    <tr>\n",
       "      <th>1</th>\n",
       "      <td>1</td>\n",
       "      <td>8</td>\n",
       "      <td>0.87</td>\n",
       "      <td>1.0318</td>\n",
       "      <td>0.25</td>\n",
       "      <td>0.00</td>\n",
       "      <td>0.0</td>\n",
       "      <td>3.6</td>\n",
       "      <td>2.7</td>\n",
       "      <td>4.8</td>\n",
       "      <td>False</td>\n",
       "    </tr>\n",
       "    <tr>\n",
       "      <th>2</th>\n",
       "      <td>2</td>\n",
       "      <td>5</td>\n",
       "      <td>0.81</td>\n",
       "      <td>1.0314</td>\n",
       "      <td>0.50</td>\n",
       "      <td>0.00</td>\n",
       "      <td>3.7</td>\n",
       "      <td>2.2</td>\n",
       "      <td>0.1</td>\n",
       "      <td>4.8</td>\n",
       "      <td>False</td>\n",
       "    </tr>\n",
       "    <tr>\n",
       "      <th>3</th>\n",
       "      <td>3</td>\n",
       "      <td>7</td>\n",
       "      <td>0.79</td>\n",
       "      <td>1.0262</td>\n",
       "      <td>0.63</td>\n",
       "      <td>0.35</td>\n",
       "      <td>6.9</td>\n",
       "      <td>3.9</td>\n",
       "      <td>0.5</td>\n",
       "      <td>7.5</td>\n",
       "      <td>False</td>\n",
       "    </tr>\n",
       "    <tr>\n",
       "      <th>4</th>\n",
       "      <td>4</td>\n",
       "      <td>5</td>\n",
       "      <td>0.90</td>\n",
       "      <td>1.0246</td>\n",
       "      <td>0.51</td>\n",
       "      <td>0.07</td>\n",
       "      <td>3.7</td>\n",
       "      <td>6.0</td>\n",
       "      <td>3.8</td>\n",
       "      <td>8.6</td>\n",
       "      <td>False</td>\n",
       "    </tr>\n",
       "  </tbody>\n",
       "</table>\n",
       "</div>"
      ],
      "text/plain": [
       "   Unnamed: 0  BASEL_cloud_cover  BASEL_humidity  BASEL_pressure  \\\n",
       "0           0                  8            0.89          1.0286   \n",
       "1           1                  8            0.87          1.0318   \n",
       "2           2                  5            0.81          1.0314   \n",
       "3           3                  7            0.79          1.0262   \n",
       "4           4                  5            0.90          1.0246   \n",
       "\n",
       "   BASEL_global_radiation  BASEL_precipitation  BASEL_sunshine  \\\n",
       "0                    0.20                 0.03             0.0   \n",
       "1                    0.25                 0.00             0.0   \n",
       "2                    0.50                 0.00             3.7   \n",
       "3                    0.63                 0.35             6.9   \n",
       "4                    0.51                 0.07             3.7   \n",
       "\n",
       "   BASEL_temp_mean  BASEL_temp_min  BASEL_temp_max  BASEL_BBQ_weather  \n",
       "0              2.9             1.6             3.9              False  \n",
       "1              3.6             2.7             4.8              False  \n",
       "2              2.2             0.1             4.8              False  \n",
       "3              3.9             0.5             7.5              False  \n",
       "4              6.0             3.8             8.6              False  "
      ]
     },
     "execution_count": 9,
     "metadata": {},
     "output_type": "execute_result"
    }
   ],
   "source": [
    "# Import library\n",
    "import numpy as np\n",
    "import pandas as pd\n",
    "\n",
    "# Load data\n",
    "df = pd.read_csv('weather_prediction_bbq_basel.csv')\n",
    "\n",
    "# Cek data\n",
    "df.head()"
   ]
  },
  {
   "attachments": {},
   "cell_type": "markdown",
   "metadata": {},
   "source": [
    "## Seleksi Fitur"
   ]
  },
  {
   "attachments": {},
   "cell_type": "markdown",
   "metadata": {},
   "source": [
    "Pada tahap ini kita akan memotong data (*slicing*) untuk mendapatkan fitur (variabel independen) dan label/kelas (variabel dependen) sesuai dengan kebutuhan"
   ]
  },
  {
   "cell_type": "code",
   "execution_count": 10,
   "metadata": {},
   "outputs": [],
   "source": [
    "# Fitur\n",
    "# Potong mulai kolom ke-2 sampai kolom ke-2 dari akhir \n",
    "# Catatan: python mengugnakan zero index, sehingga selalu diawali dengan data ke-0\n",
    "X = df.iloc[:, 1:-1] \n",
    "\n",
    "# Label/Kelas\n",
    "y = df.iloc[:, -1]"
   ]
  },
  {
   "attachments": {},
   "cell_type": "markdown",
   "metadata": {},
   "source": [
    "## Split Data Training dan Testing"
   ]
  },
  {
   "cell_type": "code",
   "execution_count": 11,
   "metadata": {},
   "outputs": [],
   "source": [
    "from sklearn.model_selection import train_test_split\n",
    "\n",
    "X_train, X_test, y_train, y_test = train_test_split(X, y, test_size=0.3, random_state=50)"
   ]
  },
  {
   "attachments": {},
   "cell_type": "markdown",
   "metadata": {},
   "source": [
    "## Membuat Model"
   ]
  },
  {
   "attachments": {},
   "cell_type": "markdown",
   "metadata": {},
   "source": [
    "Pada kasus ini, model klasifikasi yang akan kita buat adalah Gaussian Naive Bayes. Naive bayes adalah model machine learning untuk klasifiksi yang di kalkulasi berdasarkan kaidah Bayes. Khusus model gaussian, model ini berasumsi bahwa data terdistribusi secara normal (*gaussian distribution*). Oleh karena itu, kita harus menstandarisasi data yang kita miliki."
   ]
  },
  {
   "attachments": {},
   "cell_type": "markdown",
   "metadata": {},
   "source": [
    "### Pipeline Model"
   ]
  },
  {
   "attachments": {},
   "cell_type": "markdown",
   "metadata": {},
   "source": [
    "Untuk mempermudah proses standarisasi data dan pembuatan model, kita dapat menggunakan sebuah pipeline. Pipeline adalah sebuah alur kerja yang dapat kita manfaatkan untuk membuat model sehingga kita tidak perlu melakukan tahapan pembersihan sampai pelatihan secara satu per satu"
   ]
  },
  {
   "cell_type": "code",
   "execution_count": 12,
   "metadata": {},
   "outputs": [],
   "source": [
    "# Import library\n",
    "from sklearn.preprocessing import StandardScaler # untuk standarisasi data\n",
    "from sklearn.naive_bayes import GaussianNB # import model Gaussian Naive Bayes\n",
    "from sklearn.pipeline import Pipeline\n",
    "\n",
    "pipe = Pipeline([\n",
    "    ('standariasi', StandardScaler()),\n",
    "    ('model', GaussianNB())\n",
    "])"
   ]
  },
  {
   "attachments": {},
   "cell_type": "markdown",
   "metadata": {},
   "source": [
    "### Latih Model (dengan Pipeline) - Untuk Data Training"
   ]
  },
  {
   "cell_type": "code",
   "execution_count": 13,
   "metadata": {},
   "outputs": [],
   "source": [
    "# Latih model dengan menggunakan data training\n",
    "pipe.fit(X_train, y_train)\n",
    "\n",
    "# Prediksi hasil model dengan menggunakan data training\n",
    "y_predict_train = pipe.predict(X_train)"
   ]
  },
  {
   "attachments": {},
   "cell_type": "markdown",
   "metadata": {},
   "source": [
    "### Evalusi Model Berdasarkan Data Training"
   ]
  },
  {
   "attachments": {},
   "cell_type": "markdown",
   "metadata": {},
   "source": [
    "Kita akan menggunakan metric akurasi untuk menguji performa dari model"
   ]
  },
  {
   "cell_type": "code",
   "execution_count": 14,
   "metadata": {},
   "outputs": [
    {
     "name": "stdout",
     "output_type": "stream",
     "text": [
      "Akurais data training: 0.9339069221744232\n"
     ]
    }
   ],
   "source": [
    "from sklearn.metrics import accuracy_score\n",
    "\n",
    "# Kalkulasi akurasi\n",
    "train_acc = accuracy_score(y_train, y_predict_train)\n",
    "\n",
    "# Cek akurasi\n",
    "print(f'Akurais data training: {train_acc}')"
   ]
  },
  {
   "attachments": {},
   "cell_type": "markdown",
   "metadata": {},
   "source": [
    "### Evaluasi Model Berdasarkan Data Testing"
   ]
  },
  {
   "attachments": {},
   "cell_type": "markdown",
   "metadata": {},
   "source": [
    "Kali ini kita akan benar-benar menggunakan data testing atau data yang memang tidak digunakan untuk melatih model"
   ]
  },
  {
   "cell_type": "code",
   "execution_count": 15,
   "metadata": {},
   "outputs": [
    {
     "name": "stdout",
     "output_type": "stream",
     "text": [
      "Akurais data testing: 0.9216043755697356\n"
     ]
    }
   ],
   "source": [
    "# Prediksi hasil model dengan menggunakan data test\n",
    "y_predict_test = pipe.predict(X_test)\n",
    "\n",
    "# Kalkulasi akurasi data testing\n",
    "test_acc = accuracy_score(y_test, y_predict_test)\n",
    "\n",
    "# Cek akurasi\n",
    "print(f'Akurais data testing: {test_acc}')"
   ]
  },
  {
   "attachments": {},
   "cell_type": "markdown",
   "metadata": {},
   "source": [
    "## Kesimpulan"
   ]
  },
  {
   "attachments": {},
   "cell_type": "markdown",
   "metadata": {},
   "source": [
    "Model dapat bekerja dengan cukup baik untuk memprediksi 'BBQ Weather' dengan tingkat akurasi lebih dari $90\\%$ baik dari data training maupun testing"
   ]
  }
 ],
 "metadata": {
  "kernelspec": {
   "display_name": "base",
   "language": "python",
   "name": "python3"
  },
  "language_info": {
   "codemirror_mode": {
    "name": "ipython",
    "version": 3
   },
   "file_extension": ".py",
   "mimetype": "text/x-python",
   "name": "python",
   "nbconvert_exporter": "python",
   "pygments_lexer": "ipython3",
   "version": "3.8.2 (default, Mar 25 2020, 11:22:43) \n[Clang 4.0.1 (tags/RELEASE_401/final)]"
  },
  "orig_nbformat": 4,
  "vscode": {
   "interpreter": {
    "hash": "398dc28c06ad810e77de546bbdfa897a6ee0b83e59a5207339dda01a7843e01d"
   }
  }
 },
 "nbformat": 4,
 "nbformat_minor": 2
}
