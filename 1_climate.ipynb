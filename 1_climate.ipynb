{
 "cells": [
  {
   "attachments": {},
   "cell_type": "markdown",
   "metadata": {},
   "source": [
    "# Contoh Forecasting Suhu Permukaan Tanah\n",
    "\n",
    "Pada contoh ini, kita akan melakukan percobaan untuk melakukan forcasting suhu permukaan tanah di Indonsia dari bulan ke bulan dengan menggunakan model **regresi linier**. Data yang digunakan adalah data dari Climate Change: Earth Surface Temperature Data yang dapat diunduh pada laman [Kaggle](https://www.kaggle.com/datasets/berkeleyearth/climate-change-earth-surface-temperature-data?select=GlobalLandTemperaturesByCountry.csv)\n",
    "\n",
    "***Disclaimer***\n",
    "> Contoh ini hanya memberikan gambaran terkait dengan proses pengolahan data. Data dan model mungkin tidak sesuai dengan realita di lapangan"
   ]
  },
  {
   "attachments": {},
   "cell_type": "markdown",
   "metadata": {},
   "source": [
    "## Data Preparation"
   ]
  },
  {
   "attachments": {},
   "cell_type": "markdown",
   "metadata": {},
   "source": [
    "### Load Data"
   ]
  },
  {
   "cell_type": "code",
   "execution_count": 1,
   "metadata": {},
   "outputs": [
    {
     "data": {
      "text/html": [
       "<div>\n",
       "<style scoped>\n",
       "    .dataframe tbody tr th:only-of-type {\n",
       "        vertical-align: middle;\n",
       "    }\n",
       "\n",
       "    .dataframe tbody tr th {\n",
       "        vertical-align: top;\n",
       "    }\n",
       "\n",
       "    .dataframe thead th {\n",
       "        text-align: right;\n",
       "    }\n",
       "</style>\n",
       "<table border=\"1\" class=\"dataframe\">\n",
       "  <thead>\n",
       "    <tr style=\"text-align: right;\">\n",
       "      <th></th>\n",
       "      <th>dt</th>\n",
       "      <th>AverageTemperature</th>\n",
       "      <th>AverageTemperatureUncertainty</th>\n",
       "      <th>Country</th>\n",
       "    </tr>\n",
       "  </thead>\n",
       "  <tbody>\n",
       "    <tr>\n",
       "      <th>0</th>\n",
       "      <td>1743-11-01</td>\n",
       "      <td>4.384</td>\n",
       "      <td>2.294</td>\n",
       "      <td>Åland</td>\n",
       "    </tr>\n",
       "    <tr>\n",
       "      <th>1</th>\n",
       "      <td>1743-12-01</td>\n",
       "      <td>NaN</td>\n",
       "      <td>NaN</td>\n",
       "      <td>Åland</td>\n",
       "    </tr>\n",
       "    <tr>\n",
       "      <th>2</th>\n",
       "      <td>1744-01-01</td>\n",
       "      <td>NaN</td>\n",
       "      <td>NaN</td>\n",
       "      <td>Åland</td>\n",
       "    </tr>\n",
       "    <tr>\n",
       "      <th>3</th>\n",
       "      <td>1744-02-01</td>\n",
       "      <td>NaN</td>\n",
       "      <td>NaN</td>\n",
       "      <td>Åland</td>\n",
       "    </tr>\n",
       "    <tr>\n",
       "      <th>4</th>\n",
       "      <td>1744-03-01</td>\n",
       "      <td>NaN</td>\n",
       "      <td>NaN</td>\n",
       "      <td>Åland</td>\n",
       "    </tr>\n",
       "  </tbody>\n",
       "</table>\n",
       "</div>"
      ],
      "text/plain": [
       "           dt  AverageTemperature  AverageTemperatureUncertainty Country\n",
       "0  1743-11-01               4.384                          2.294   Åland\n",
       "1  1743-12-01                 NaN                            NaN   Åland\n",
       "2  1744-01-01                 NaN                            NaN   Åland\n",
       "3  1744-02-01                 NaN                            NaN   Åland\n",
       "4  1744-03-01                 NaN                            NaN   Åland"
      ]
     },
     "metadata": {},
     "output_type": "display_data"
    },
    {
     "name": "stdout",
     "output_type": "stream",
     "text": [
      "Jumlah Baris: 577462\n",
      "Jumlah Kolom: 4\n"
     ]
    }
   ],
   "source": [
    "# Import library yang dibutuhkan\n",
    "import numpy as np # kebutuhan pengolahan data numerik\n",
    "import pandas as pd # kebutuhan tabulasi dan manipulasi data\n",
    "\n",
    "# Muat data\n",
    "df = pd.read_csv('GlobalLandTemperaturesByCountry.csv')\n",
    "\n",
    "# Tampilkan sebagian data\n",
    "display(df.head())\n",
    "\n",
    "# Cek dimensi data\n",
    "print(f'Jumlah Baris: {df.shape[0]}')\n",
    "print(f'Jumlah Kolom: {df.shape[1]}')"
   ]
  },
  {
   "attachments": {},
   "cell_type": "markdown",
   "metadata": {},
   "source": [
    "Data ini memuat data suhu permukaan tanah dari berbagai negara. Untuk contoh ini kita hanya akan menggunakan data dari Indonesia"
   ]
  },
  {
   "attachments": {},
   "cell_type": "markdown",
   "metadata": {},
   "source": [
    "### Filter Data"
   ]
  },
  {
   "attachments": {},
   "cell_type": "markdown",
   "metadata": {},
   "source": [
    "Kita akan melakukan query hanya untuk kolom 'Country' bernilai 'Indonesia'"
   ]
  },
  {
   "cell_type": "code",
   "execution_count": 2,
   "metadata": {},
   "outputs": [
    {
     "data": {
      "text/html": [
       "<div>\n",
       "<style scoped>\n",
       "    .dataframe tbody tr th:only-of-type {\n",
       "        vertical-align: middle;\n",
       "    }\n",
       "\n",
       "    .dataframe tbody tr th {\n",
       "        vertical-align: top;\n",
       "    }\n",
       "\n",
       "    .dataframe thead th {\n",
       "        text-align: right;\n",
       "    }\n",
       "</style>\n",
       "<table border=\"1\" class=\"dataframe\">\n",
       "  <thead>\n",
       "    <tr style=\"text-align: right;\">\n",
       "      <th></th>\n",
       "      <th>dt</th>\n",
       "      <th>AverageTemperature</th>\n",
       "      <th>AverageTemperatureUncertainty</th>\n",
       "      <th>Country</th>\n",
       "    </tr>\n",
       "  </thead>\n",
       "  <tbody>\n",
       "    <tr>\n",
       "      <th>248568</th>\n",
       "      <td>2013-05-01</td>\n",
       "      <td>26.818</td>\n",
       "      <td>0.154</td>\n",
       "      <td>Indonesia</td>\n",
       "    </tr>\n",
       "    <tr>\n",
       "      <th>248569</th>\n",
       "      <td>2013-06-01</td>\n",
       "      <td>26.881</td>\n",
       "      <td>0.248</td>\n",
       "      <td>Indonesia</td>\n",
       "    </tr>\n",
       "    <tr>\n",
       "      <th>248570</th>\n",
       "      <td>2013-07-01</td>\n",
       "      <td>25.902</td>\n",
       "      <td>0.164</td>\n",
       "      <td>Indonesia</td>\n",
       "    </tr>\n",
       "    <tr>\n",
       "      <th>248571</th>\n",
       "      <td>2013-08-01</td>\n",
       "      <td>25.961</td>\n",
       "      <td>0.319</td>\n",
       "      <td>Indonesia</td>\n",
       "    </tr>\n",
       "    <tr>\n",
       "      <th>248572</th>\n",
       "      <td>2013-09-01</td>\n",
       "      <td>NaN</td>\n",
       "      <td>NaN</td>\n",
       "      <td>Indonesia</td>\n",
       "    </tr>\n",
       "  </tbody>\n",
       "</table>\n",
       "</div>"
      ],
      "text/plain": [
       "                dt  AverageTemperature  AverageTemperatureUncertainty  \\\n",
       "248568  2013-05-01              26.818                          0.154   \n",
       "248569  2013-06-01              26.881                          0.248   \n",
       "248570  2013-07-01              25.902                          0.164   \n",
       "248571  2013-08-01              25.961                          0.319   \n",
       "248572  2013-09-01                 NaN                            NaN   \n",
       "\n",
       "          Country  \n",
       "248568  Indonesia  \n",
       "248569  Indonesia  \n",
       "248570  Indonesia  \n",
       "248571  Indonesia  \n",
       "248572  Indonesia  "
      ]
     },
     "metadata": {},
     "output_type": "display_data"
    },
    {
     "name": "stdout",
     "output_type": "stream",
     "text": [
      "Jumlah Baris: 2265\n",
      "Jumlah Kolom: 4\n"
     ]
    }
   ],
   "source": [
    "# Duplikasi data\n",
    "df_indo = df.copy()\n",
    "\n",
    "# Query filter untuk Indonesia\n",
    "df_indo = df_indo.query(\"Country == 'Indonesia'\")\n",
    "\n",
    "# Cek sebagian data\n",
    "display(df_indo.tail()) # dari 5 terbawah\n",
    "\n",
    "# Cek dimensi data\n",
    "print(f'Jumlah Baris: {df_indo.shape[0]}')\n",
    "print(f'Jumlah Kolom: {df_indo.shape[1]}')"
   ]
  },
  {
   "attachments": {},
   "cell_type": "markdown",
   "metadata": {},
   "source": [
    "### Deskripsi Data"
   ]
  },
  {
   "attachments": {},
   "cell_type": "markdown",
   "metadata": {},
   "source": [
    "Selanjutnya, kita akan cek profil data kita dengan menggunakan ukuran statistik deskriptif untuk memastikan data yang kita miliki baik atau tidak. Langkah ini sangat membantu kita dalam membuat model machine learning yang baik pada tahap selanjutnya."
   ]
  },
  {
   "cell_type": "code",
   "execution_count": 3,
   "metadata": {},
   "outputs": [
    {
     "data": {
      "text/html": [
       "<pre style=\"white-space:pre;overflow-x:auto;line-height:normal;font-family:Menlo,'DejaVu Sans Mono',consolas,'Courier New',monospace\">╭───────────────────────────────────── skimpy summary ──────────────────────────────────────╮\n",
       "│ <span style=\"font-style: italic\">         Data Summary         </span> <span style=\"font-style: italic\">      Data Types       </span>                                    │\n",
       "│ ┏━━━━━━━━━━━━━━━━━━━┳━━━━━━━━┓ ┏━━━━━━━━━━━━━┳━━━━━━━┓                                    │\n",
       "│ ┃<span style=\"color: #008080; text-decoration-color: #008080; font-weight: bold\"> dataframe         </span>┃<span style=\"color: #008080; text-decoration-color: #008080; font-weight: bold\"> Values </span>┃ ┃<span style=\"color: #008080; text-decoration-color: #008080; font-weight: bold\"> Column Type </span>┃<span style=\"color: #008080; text-decoration-color: #008080; font-weight: bold\"> Count </span>┃                                    │\n",
       "│ ┡━━━━━━━━━━━━━━━━━━━╇━━━━━━━━┩ ┡━━━━━━━━━━━━━╇━━━━━━━┩                                    │\n",
       "│ │ Number of rows    │ 2265   │ │ object      │ 2     │                                    │\n",
       "│ │ Number of columns │ 4      │ │ float64     │ 2     │                                    │\n",
       "│ └───────────────────┴────────┘ └─────────────┴───────┘                                    │\n",
       "│ <span style=\"font-style: italic\">                                         number                                         </span>  │\n",
       "│ ┏━━━━━━━━━━━━┳━━━━━━━━━┳━━━━━━━━━━━━┳━━━━━━┳━━━━━━┳━━━━━━┳━━━━━━┳━━━━━━┳━━━━━━┳━━━━━━━━┓  │\n",
       "│ ┃<span style=\"font-weight: bold\">            </span>┃<span style=\"font-weight: bold\"> missing </span>┃<span style=\"font-weight: bold\"> complete   </span>┃<span style=\"font-weight: bold\"> mean </span>┃<span style=\"font-weight: bold\"> sd   </span>┃<span style=\"font-weight: bold\"> p0   </span>┃<span style=\"font-weight: bold\"> p25  </span>┃<span style=\"font-weight: bold\"> p75  </span>┃<span style=\"font-weight: bold\"> p100 </span>┃<span style=\"font-weight: bold\"> hist   </span>┃  │\n",
       "│ ┃            ┃         ┃<span style=\"font-weight: bold\"> rate       </span>┃      ┃      ┃      ┃      ┃      ┃      ┃        ┃  │\n",
       "│ ┡━━━━━━━━━━━━╇━━━━━━━━━╇━━━━━━━━━━━━╇━━━━━━╇━━━━━━╇━━━━━━╇━━━━━━╇━━━━━━╇━━━━━━╇━━━━━━━━┩  │\n",
       "│ │ <span style=\"color: #af87ff; text-decoration-color: #af87ff\">AverageTem</span> │ <span style=\"color: #008080; text-decoration-color: #008080\">    390</span> │ <span style=\"color: #008080; text-decoration-color: #008080\">      0.83</span> │ <span style=\"color: #008080; text-decoration-color: #008080\">  26</span> │ <span style=\"color: #008080; text-decoration-color: #008080\">0.52</span> │ <span style=\"color: #008080; text-decoration-color: #008080\">  24</span> │ <span style=\"color: #008080; text-decoration-color: #008080\">  25</span> │ <span style=\"color: #008080; text-decoration-color: #008080\">  26</span> │ <span style=\"color: #008080; text-decoration-color: #008080\">  27</span> │ <span style=\"color: #008000; text-decoration-color: #008000\"> ▂▇█▃ </span> │  │\n",
       "│ │ <span style=\"color: #af87ff; text-decoration-color: #af87ff\">perature  </span> │         │            │      │      │      │      │      │      │        │  │\n",
       "│ │ <span style=\"color: #af87ff; text-decoration-color: #af87ff\">AverageTem</span> │ <span style=\"color: #008080; text-decoration-color: #008080\">    390</span> │ <span style=\"color: #008080; text-decoration-color: #008080\">      0.83</span> │ <span style=\"color: #008080; text-decoration-color: #008080\">0.45</span> │ <span style=\"color: #008080; text-decoration-color: #008080\"> 0.3</span> │ <span style=\"color: #008080; text-decoration-color: #008080\">0.07</span> │ <span style=\"color: #008080; text-decoration-color: #008080\">0.23</span> │ <span style=\"color: #008080; text-decoration-color: #008080\">0.58</span> │ <span style=\"color: #008080; text-decoration-color: #008080\"> 2.2</span> │ <span style=\"color: #008000; text-decoration-color: #008000\"> █▄▁  </span> │  │\n",
       "│ │ <span style=\"color: #af87ff; text-decoration-color: #af87ff\">peratureUn</span> │         │            │      │      │      │      │      │      │        │  │\n",
       "│ └────────────┴─────────┴────────────┴──────┴──────┴──────┴──────┴──────┴──────┴────────┘  │\n",
       "╰─────────────────────────────────────────── End ───────────────────────────────────────────╯\n",
       "</pre>\n"
      ],
      "text/plain": [
       "╭───────────────────────────────────── skimpy summary ──────────────────────────────────────╮\n",
       "│ \u001b[3m         Data Summary         \u001b[0m \u001b[3m      Data Types       \u001b[0m                                    │\n",
       "│ ┏━━━━━━━━━━━━━━━━━━━┳━━━━━━━━┓ ┏━━━━━━━━━━━━━┳━━━━━━━┓                                    │\n",
       "│ ┃\u001b[1;36m \u001b[0m\u001b[1;36mdataframe        \u001b[0m\u001b[1;36m \u001b[0m┃\u001b[1;36m \u001b[0m\u001b[1;36mValues\u001b[0m\u001b[1;36m \u001b[0m┃ ┃\u001b[1;36m \u001b[0m\u001b[1;36mColumn Type\u001b[0m\u001b[1;36m \u001b[0m┃\u001b[1;36m \u001b[0m\u001b[1;36mCount\u001b[0m\u001b[1;36m \u001b[0m┃                                    │\n",
       "│ ┡━━━━━━━━━━━━━━━━━━━╇━━━━━━━━┩ ┡━━━━━━━━━━━━━╇━━━━━━━┩                                    │\n",
       "│ │ Number of rows    │ 2265   │ │ object      │ 2     │                                    │\n",
       "│ │ Number of columns │ 4      │ │ float64     │ 2     │                                    │\n",
       "│ └───────────────────┴────────┘ └─────────────┴───────┘                                    │\n",
       "│ \u001b[3m                                         number                                         \u001b[0m  │\n",
       "│ ┏━━━━━━━━━━━━┳━━━━━━━━━┳━━━━━━━━━━━━┳━━━━━━┳━━━━━━┳━━━━━━┳━━━━━━┳━━━━━━┳━━━━━━┳━━━━━━━━┓  │\n",
       "│ ┃\u001b[1m \u001b[0m\u001b[1m          \u001b[0m\u001b[1m \u001b[0m┃\u001b[1m \u001b[0m\u001b[1mmissing\u001b[0m\u001b[1m \u001b[0m┃\u001b[1m \u001b[0m\u001b[1mcomplete  \u001b[0m\u001b[1m \u001b[0m┃\u001b[1m \u001b[0m\u001b[1mmean\u001b[0m\u001b[1m \u001b[0m┃\u001b[1m \u001b[0m\u001b[1msd  \u001b[0m\u001b[1m \u001b[0m┃\u001b[1m \u001b[0m\u001b[1mp0  \u001b[0m\u001b[1m \u001b[0m┃\u001b[1m \u001b[0m\u001b[1mp25 \u001b[0m\u001b[1m \u001b[0m┃\u001b[1m \u001b[0m\u001b[1mp75 \u001b[0m\u001b[1m \u001b[0m┃\u001b[1m \u001b[0m\u001b[1mp100\u001b[0m\u001b[1m \u001b[0m┃\u001b[1m \u001b[0m\u001b[1mhist  \u001b[0m\u001b[1m \u001b[0m┃  │\n",
       "│ ┃            ┃         ┃\u001b[1m \u001b[0m\u001b[1mrate      \u001b[0m\u001b[1m \u001b[0m┃      ┃      ┃      ┃      ┃      ┃      ┃        ┃  │\n",
       "│ ┡━━━━━━━━━━━━╇━━━━━━━━━╇━━━━━━━━━━━━╇━━━━━━╇━━━━━━╇━━━━━━╇━━━━━━╇━━━━━━╇━━━━━━╇━━━━━━━━┩  │\n",
       "│ │ \u001b[38;5;141mAverageTem\u001b[0m │ \u001b[36m    390\u001b[0m │ \u001b[36m      0.83\u001b[0m │ \u001b[36m  26\u001b[0m │ \u001b[36m0.52\u001b[0m │ \u001b[36m  24\u001b[0m │ \u001b[36m  25\u001b[0m │ \u001b[36m  26\u001b[0m │ \u001b[36m  27\u001b[0m │ \u001b[32m ▂▇█▃ \u001b[0m │  │\n",
       "│ │ \u001b[38;5;141mperature  \u001b[0m │         │            │      │      │      │      │      │      │        │  │\n",
       "│ │ \u001b[38;5;141mAverageTem\u001b[0m │ \u001b[36m    390\u001b[0m │ \u001b[36m      0.83\u001b[0m │ \u001b[36m0.45\u001b[0m │ \u001b[36m 0.3\u001b[0m │ \u001b[36m0.07\u001b[0m │ \u001b[36m0.23\u001b[0m │ \u001b[36m0.58\u001b[0m │ \u001b[36m 2.2\u001b[0m │ \u001b[32m █▄▁  \u001b[0m │  │\n",
       "│ │ \u001b[38;5;141mperatureUn\u001b[0m │         │            │      │      │      │      │      │      │        │  │\n",
       "│ └────────────┴─────────┴────────────┴──────┴──────┴──────┴──────┴──────┴──────┴────────┘  │\n",
       "╰─────────────────────────────────────────── End ───────────────────────────────────────────╯\n"
      ]
     },
     "metadata": {},
     "output_type": "display_data"
    }
   ],
   "source": [
    "# Import library yang dibutuhkan\n",
    "from skimpy import skim as sk # kebutuhan deskripsi data\n",
    "\n",
    "# Cek deskripsi data\n",
    "sk(df_indo)"
   ]
  },
  {
   "cell_type": "code",
   "execution_count": 4,
   "metadata": {},
   "outputs": [
    {
     "name": "stdout",
     "output_type": "stream",
     "text": [
      "<class 'pandas.core.frame.DataFrame'>\n",
      "Int64Index: 2265 entries, 246308 to 248572\n",
      "Data columns (total 4 columns):\n",
      " #   Column                         Non-Null Count  Dtype  \n",
      "---  ------                         --------------  -----  \n",
      " 0   dt                             2265 non-null   object \n",
      " 1   AverageTemperature             1879 non-null   float64\n",
      " 2   AverageTemperatureUncertainty  1879 non-null   float64\n",
      " 3   Country                        2265 non-null   object \n",
      "dtypes: float64(2), object(2)\n",
      "memory usage: 88.5+ KB\n",
      "None\n",
      "========\n",
      "       AverageTemperature  AverageTemperatureUncertainty\n",
      "count         1879.000000                    1879.000000\n",
      "mean            25.684484                       0.447499\n",
      "std              0.519264                       0.298915\n",
      "min             23.730000                       0.070000\n",
      "25%             25.303000                       0.233500\n",
      "50%             25.686000                       0.353000\n",
      "75%             26.065000                       0.581000\n",
      "max             27.478000                       2.216000\n"
     ]
    }
   ],
   "source": [
    "# Cara lain untuk cek deskripsi data. Dengan library pandas.\n",
    "\n",
    "# Cek Profil Data\n",
    "print(df_indo.info())\n",
    "\n",
    "print('========')\n",
    "\n",
    "# Cek Stastistik Deskriptif\n",
    "print(df_indo.describe())"
   ]
  },
  {
   "attachments": {},
   "cell_type": "markdown",
   "metadata": {},
   "source": [
    "Berdasarkan hasil deskripsi data, diketahui terdapat data yang hilang (*missing value*) pada kolom '**AverageTemperature**' dan '**AverageTemperatureUncertainty**'. Kita perlu melakukan sesuatu terhadap data yang kosong.\n",
    "\n",
    "Terdapat paling tidak 2 strategi yang dapat kita lakukan terhadap data tersebut.\n",
    "1. Buang data\n",
    "2. Manipulasi dengan mengganti nilainya (*impute*)\n",
    "\n",
    "Pada kasus ini, karena data yang digunakan hanya sedikit, maka cukup \"sayang\" untuk dibuang. Maka kita putuskan untuk menggunakan strategi yang kedua."
   ]
  },
  {
   "attachments": {},
   "cell_type": "markdown",
   "metadata": {},
   "source": [
    "### Data Cleansing"
   ]
  },
  {
   "attachments": {},
   "cell_type": "markdown",
   "metadata": {},
   "source": [
    "#### Mengganti Nilai Kosong (NaN)"
   ]
  },
  {
   "attachments": {},
   "cell_type": "markdown",
   "metadata": {},
   "source": [
    "Kita akan menggnati nilai yang kosong pada '**AverageTemperature**' dan '**AverageTemperatureUncertainty**' dengan nilai rata-ratanya."
   ]
  },
  {
   "cell_type": "code",
   "execution_count": 5,
   "metadata": {},
   "outputs": [
    {
     "data": {
      "text/html": [
       "<pre style=\"white-space:pre;overflow-x:auto;line-height:normal;font-family:Menlo,'DejaVu Sans Mono',consolas,'Courier New',monospace\">╭───────────────────────────────────── skimpy summary ──────────────────────────────────────╮\n",
       "│ <span style=\"font-style: italic\">         Data Summary         </span> <span style=\"font-style: italic\">      Data Types       </span>                                    │\n",
       "│ ┏━━━━━━━━━━━━━━━━━━━┳━━━━━━━━┓ ┏━━━━━━━━━━━━━┳━━━━━━━┓                                    │\n",
       "│ ┃<span style=\"color: #008080; text-decoration-color: #008080; font-weight: bold\"> dataframe         </span>┃<span style=\"color: #008080; text-decoration-color: #008080; font-weight: bold\"> Values </span>┃ ┃<span style=\"color: #008080; text-decoration-color: #008080; font-weight: bold\"> Column Type </span>┃<span style=\"color: #008080; text-decoration-color: #008080; font-weight: bold\"> Count </span>┃                                    │\n",
       "│ ┡━━━━━━━━━━━━━━━━━━━╇━━━━━━━━┩ ┡━━━━━━━━━━━━━╇━━━━━━━┩                                    │\n",
       "│ │ Number of rows    │ 2265   │ │ object      │ 2     │                                    │\n",
       "│ │ Number of columns │ 4      │ │ float64     │ 2     │                                    │\n",
       "│ └───────────────────┴────────┘ └─────────────┴───────┘                                    │\n",
       "│ <span style=\"font-style: italic\">                                         number                                         </span>  │\n",
       "│ ┏━━━━━━━━━━━━┳━━━━━━━━━┳━━━━━━━━━━━━┳━━━━━━┳━━━━━━┳━━━━━━┳━━━━━━┳━━━━━━┳━━━━━━┳━━━━━━━━┓  │\n",
       "│ ┃<span style=\"font-weight: bold\">            </span>┃<span style=\"font-weight: bold\"> missing </span>┃<span style=\"font-weight: bold\"> complete   </span>┃<span style=\"font-weight: bold\"> mean </span>┃<span style=\"font-weight: bold\"> sd   </span>┃<span style=\"font-weight: bold\"> p0   </span>┃<span style=\"font-weight: bold\"> p25  </span>┃<span style=\"font-weight: bold\"> p75  </span>┃<span style=\"font-weight: bold\"> p100 </span>┃<span style=\"font-weight: bold\"> hist   </span>┃  │\n",
       "│ ┃            ┃         ┃<span style=\"font-weight: bold\"> rate       </span>┃      ┃      ┃      ┃      ┃      ┃      ┃        ┃  │\n",
       "│ ┡━━━━━━━━━━━━╇━━━━━━━━━╇━━━━━━━━━━━━╇━━━━━━╇━━━━━━╇━━━━━━╇━━━━━━╇━━━━━━╇━━━━━━╇━━━━━━━━┩  │\n",
       "│ │ <span style=\"color: #af87ff; text-decoration-color: #af87ff\">AverageTem</span> │ <span style=\"color: #008080; text-decoration-color: #008080\">      0</span> │ <span style=\"color: #008080; text-decoration-color: #008080\">         1</span> │ <span style=\"color: #008080; text-decoration-color: #008080\">  26</span> │ <span style=\"color: #008080; text-decoration-color: #008080\">0.47</span> │ <span style=\"color: #008080; text-decoration-color: #008080\">  24</span> │ <span style=\"color: #008080; text-decoration-color: #008080\">  25</span> │ <span style=\"color: #008080; text-decoration-color: #008080\">  26</span> │ <span style=\"color: #008080; text-decoration-color: #008080\">  27</span> │ <span style=\"color: #008000; text-decoration-color: #008000\"> ▁▅█▂ </span> │  │\n",
       "│ │ <span style=\"color: #af87ff; text-decoration-color: #af87ff\">perature  </span> │         │            │      │      │      │      │      │      │        │  │\n",
       "│ │ <span style=\"color: #af87ff; text-decoration-color: #af87ff\">AverageTem</span> │ <span style=\"color: #008080; text-decoration-color: #008080\">      0</span> │ <span style=\"color: #008080; text-decoration-color: #008080\">         1</span> │ <span style=\"color: #008080; text-decoration-color: #008080\">0.45</span> │ <span style=\"color: #008080; text-decoration-color: #008080\">0.27</span> │ <span style=\"color: #008080; text-decoration-color: #008080\">0.07</span> │ <span style=\"color: #008080; text-decoration-color: #008080\">0.25</span> │ <span style=\"color: #008080; text-decoration-color: #008080\">0.53</span> │ <span style=\"color: #008080; text-decoration-color: #008080\"> 2.2</span> │ <span style=\"color: #008000; text-decoration-color: #008000\"> █▆▁  </span> │  │\n",
       "│ │ <span style=\"color: #af87ff; text-decoration-color: #af87ff\">peratureUn</span> │         │            │      │      │      │      │      │      │        │  │\n",
       "│ └────────────┴─────────┴────────────┴──────┴──────┴──────┴──────┴──────┴──────┴────────┘  │\n",
       "╰─────────────────────────────────────────── End ───────────────────────────────────────────╯\n",
       "</pre>\n"
      ],
      "text/plain": [
       "╭───────────────────────────────────── skimpy summary ──────────────────────────────────────╮\n",
       "│ \u001b[3m         Data Summary         \u001b[0m \u001b[3m      Data Types       \u001b[0m                                    │\n",
       "│ ┏━━━━━━━━━━━━━━━━━━━┳━━━━━━━━┓ ┏━━━━━━━━━━━━━┳━━━━━━━┓                                    │\n",
       "│ ┃\u001b[1;36m \u001b[0m\u001b[1;36mdataframe        \u001b[0m\u001b[1;36m \u001b[0m┃\u001b[1;36m \u001b[0m\u001b[1;36mValues\u001b[0m\u001b[1;36m \u001b[0m┃ ┃\u001b[1;36m \u001b[0m\u001b[1;36mColumn Type\u001b[0m\u001b[1;36m \u001b[0m┃\u001b[1;36m \u001b[0m\u001b[1;36mCount\u001b[0m\u001b[1;36m \u001b[0m┃                                    │\n",
       "│ ┡━━━━━━━━━━━━━━━━━━━╇━━━━━━━━┩ ┡━━━━━━━━━━━━━╇━━━━━━━┩                                    │\n",
       "│ │ Number of rows    │ 2265   │ │ object      │ 2     │                                    │\n",
       "│ │ Number of columns │ 4      │ │ float64     │ 2     │                                    │\n",
       "│ └───────────────────┴────────┘ └─────────────┴───────┘                                    │\n",
       "│ \u001b[3m                                         number                                         \u001b[0m  │\n",
       "│ ┏━━━━━━━━━━━━┳━━━━━━━━━┳━━━━━━━━━━━━┳━━━━━━┳━━━━━━┳━━━━━━┳━━━━━━┳━━━━━━┳━━━━━━┳━━━━━━━━┓  │\n",
       "│ ┃\u001b[1m \u001b[0m\u001b[1m          \u001b[0m\u001b[1m \u001b[0m┃\u001b[1m \u001b[0m\u001b[1mmissing\u001b[0m\u001b[1m \u001b[0m┃\u001b[1m \u001b[0m\u001b[1mcomplete  \u001b[0m\u001b[1m \u001b[0m┃\u001b[1m \u001b[0m\u001b[1mmean\u001b[0m\u001b[1m \u001b[0m┃\u001b[1m \u001b[0m\u001b[1msd  \u001b[0m\u001b[1m \u001b[0m┃\u001b[1m \u001b[0m\u001b[1mp0  \u001b[0m\u001b[1m \u001b[0m┃\u001b[1m \u001b[0m\u001b[1mp25 \u001b[0m\u001b[1m \u001b[0m┃\u001b[1m \u001b[0m\u001b[1mp75 \u001b[0m\u001b[1m \u001b[0m┃\u001b[1m \u001b[0m\u001b[1mp100\u001b[0m\u001b[1m \u001b[0m┃\u001b[1m \u001b[0m\u001b[1mhist  \u001b[0m\u001b[1m \u001b[0m┃  │\n",
       "│ ┃            ┃         ┃\u001b[1m \u001b[0m\u001b[1mrate      \u001b[0m\u001b[1m \u001b[0m┃      ┃      ┃      ┃      ┃      ┃      ┃        ┃  │\n",
       "│ ┡━━━━━━━━━━━━╇━━━━━━━━━╇━━━━━━━━━━━━╇━━━━━━╇━━━━━━╇━━━━━━╇━━━━━━╇━━━━━━╇━━━━━━╇━━━━━━━━┩  │\n",
       "│ │ \u001b[38;5;141mAverageTem\u001b[0m │ \u001b[36m      0\u001b[0m │ \u001b[36m         1\u001b[0m │ \u001b[36m  26\u001b[0m │ \u001b[36m0.47\u001b[0m │ \u001b[36m  24\u001b[0m │ \u001b[36m  25\u001b[0m │ \u001b[36m  26\u001b[0m │ \u001b[36m  27\u001b[0m │ \u001b[32m ▁▅█▂ \u001b[0m │  │\n",
       "│ │ \u001b[38;5;141mperature  \u001b[0m │         │            │      │      │      │      │      │      │        │  │\n",
       "│ │ \u001b[38;5;141mAverageTem\u001b[0m │ \u001b[36m      0\u001b[0m │ \u001b[36m         1\u001b[0m │ \u001b[36m0.45\u001b[0m │ \u001b[36m0.27\u001b[0m │ \u001b[36m0.07\u001b[0m │ \u001b[36m0.25\u001b[0m │ \u001b[36m0.53\u001b[0m │ \u001b[36m 2.2\u001b[0m │ \u001b[32m █▆▁  \u001b[0m │  │\n",
       "│ │ \u001b[38;5;141mperatureUn\u001b[0m │         │            │      │      │      │      │      │      │        │  │\n",
       "│ └────────────┴─────────┴────────────┴──────┴──────┴──────┴──────┴──────┴──────┴────────┘  │\n",
       "╰─────────────────────────────────────────── End ───────────────────────────────────────────╯\n"
      ]
     },
     "metadata": {},
     "output_type": "display_data"
    },
    {
     "data": {
      "text/html": [
       "<div>\n",
       "<style scoped>\n",
       "    .dataframe tbody tr th:only-of-type {\n",
       "        vertical-align: middle;\n",
       "    }\n",
       "\n",
       "    .dataframe tbody tr th {\n",
       "        vertical-align: top;\n",
       "    }\n",
       "\n",
       "    .dataframe thead th {\n",
       "        text-align: right;\n",
       "    }\n",
       "</style>\n",
       "<table border=\"1\" class=\"dataframe\">\n",
       "  <thead>\n",
       "    <tr style=\"text-align: right;\">\n",
       "      <th></th>\n",
       "      <th>dt</th>\n",
       "      <th>AverageTemperature</th>\n",
       "      <th>AverageTemperatureUncertainty</th>\n",
       "      <th>Country</th>\n",
       "    </tr>\n",
       "  </thead>\n",
       "  <tbody>\n",
       "    <tr>\n",
       "      <th>246308</th>\n",
       "      <td>1825-01-01</td>\n",
       "      <td>25.915</td>\n",
       "      <td>1.825</td>\n",
       "      <td>Indonesia</td>\n",
       "    </tr>\n",
       "    <tr>\n",
       "      <th>246309</th>\n",
       "      <td>1825-02-01</td>\n",
       "      <td>25.385</td>\n",
       "      <td>0.973</td>\n",
       "      <td>Indonesia</td>\n",
       "    </tr>\n",
       "    <tr>\n",
       "      <th>246310</th>\n",
       "      <td>1825-03-01</td>\n",
       "      <td>25.687</td>\n",
       "      <td>1.656</td>\n",
       "      <td>Indonesia</td>\n",
       "    </tr>\n",
       "    <tr>\n",
       "      <th>246311</th>\n",
       "      <td>1825-04-01</td>\n",
       "      <td>26.302</td>\n",
       "      <td>1.897</td>\n",
       "      <td>Indonesia</td>\n",
       "    </tr>\n",
       "    <tr>\n",
       "      <th>246312</th>\n",
       "      <td>1825-05-01</td>\n",
       "      <td>25.705</td>\n",
       "      <td>0.902</td>\n",
       "      <td>Indonesia</td>\n",
       "    </tr>\n",
       "    <tr>\n",
       "      <th>246313</th>\n",
       "      <td>1825-06-01</td>\n",
       "      <td>26.161</td>\n",
       "      <td>0.836</td>\n",
       "      <td>Indonesia</td>\n",
       "    </tr>\n",
       "    <tr>\n",
       "      <th>246314</th>\n",
       "      <td>1825-07-01</td>\n",
       "      <td>25.567</td>\n",
       "      <td>2.009</td>\n",
       "      <td>Indonesia</td>\n",
       "    </tr>\n",
       "    <tr>\n",
       "      <th>246315</th>\n",
       "      <td>1825-08-01</td>\n",
       "      <td>24.970</td>\n",
       "      <td>1.858</td>\n",
       "      <td>Indonesia</td>\n",
       "    </tr>\n",
       "    <tr>\n",
       "      <th>246316</th>\n",
       "      <td>1825-09-01</td>\n",
       "      <td>24.870</td>\n",
       "      <td>1.439</td>\n",
       "      <td>Indonesia</td>\n",
       "    </tr>\n",
       "    <tr>\n",
       "      <th>246317</th>\n",
       "      <td>1825-10-01</td>\n",
       "      <td>24.788</td>\n",
       "      <td>1.580</td>\n",
       "      <td>Indonesia</td>\n",
       "    </tr>\n",
       "  </tbody>\n",
       "</table>\n",
       "</div>"
      ],
      "text/plain": [
       "                dt  AverageTemperature  AverageTemperatureUncertainty  \\\n",
       "246308  1825-01-01              25.915                          1.825   \n",
       "246309  1825-02-01              25.385                          0.973   \n",
       "246310  1825-03-01              25.687                          1.656   \n",
       "246311  1825-04-01              26.302                          1.897   \n",
       "246312  1825-05-01              25.705                          0.902   \n",
       "246313  1825-06-01              26.161                          0.836   \n",
       "246314  1825-07-01              25.567                          2.009   \n",
       "246315  1825-08-01              24.970                          1.858   \n",
       "246316  1825-09-01              24.870                          1.439   \n",
       "246317  1825-10-01              24.788                          1.580   \n",
       "\n",
       "          Country  \n",
       "246308  Indonesia  \n",
       "246309  Indonesia  \n",
       "246310  Indonesia  \n",
       "246311  Indonesia  \n",
       "246312  Indonesia  \n",
       "246313  Indonesia  \n",
       "246314  Indonesia  \n",
       "246315  Indonesia  \n",
       "246316  Indonesia  \n",
       "246317  Indonesia  "
      ]
     },
     "metadata": {},
     "output_type": "display_data"
    }
   ],
   "source": [
    "# Impute mean pada 'AverageTemperature'\n",
    "df_indo['AverageTemperature'] = df_indo['AverageTemperature'].fillna(df_indo['AverageTemperature'].mean())\n",
    "\n",
    "# Impute mean pada 'AverageTemperatureUncertainty'\n",
    "df_indo['AverageTemperatureUncertainty'] = df_indo['AverageTemperatureUncertainty'].fillna(df_indo['AverageTemperatureUncertainty'].mean())\n",
    "\n",
    "# Cek deskripsi data\n",
    "sk(df_indo)\n",
    "\n",
    "# Cek data\n",
    "display(df_indo.head(10)) # 10 data teratas"
   ]
  },
  {
   "attachments": {},
   "cell_type": "markdown",
   "metadata": {},
   "source": [
    "#### Transformasi Data Tanggal"
   ]
  },
  {
   "attachments": {},
   "cell_type": "markdown",
   "metadata": {},
   "source": [
    "Selanjutnya, pastikan data tanggal yang digunakan sudah benar memiliki tipe data dan format tanggal."
   ]
  },
  {
   "cell_type": "code",
   "execution_count": 6,
   "metadata": {},
   "outputs": [
    {
     "data": {
      "text/html": [
       "<div>\n",
       "<style scoped>\n",
       "    .dataframe tbody tr th:only-of-type {\n",
       "        vertical-align: middle;\n",
       "    }\n",
       "\n",
       "    .dataframe tbody tr th {\n",
       "        vertical-align: top;\n",
       "    }\n",
       "\n",
       "    .dataframe thead th {\n",
       "        text-align: right;\n",
       "    }\n",
       "</style>\n",
       "<table border=\"1\" class=\"dataframe\">\n",
       "  <thead>\n",
       "    <tr style=\"text-align: right;\">\n",
       "      <th></th>\n",
       "      <th>dt</th>\n",
       "      <th>AverageTemperature</th>\n",
       "      <th>AverageTemperatureUncertainty</th>\n",
       "      <th>Country</th>\n",
       "    </tr>\n",
       "  </thead>\n",
       "  <tbody>\n",
       "    <tr>\n",
       "      <th>246308</th>\n",
       "      <td>1825-01-01</td>\n",
       "      <td>25.915</td>\n",
       "      <td>1.825</td>\n",
       "      <td>Indonesia</td>\n",
       "    </tr>\n",
       "    <tr>\n",
       "      <th>246309</th>\n",
       "      <td>1825-02-01</td>\n",
       "      <td>25.385</td>\n",
       "      <td>0.973</td>\n",
       "      <td>Indonesia</td>\n",
       "    </tr>\n",
       "    <tr>\n",
       "      <th>246310</th>\n",
       "      <td>1825-03-01</td>\n",
       "      <td>25.687</td>\n",
       "      <td>1.656</td>\n",
       "      <td>Indonesia</td>\n",
       "    </tr>\n",
       "    <tr>\n",
       "      <th>246311</th>\n",
       "      <td>1825-04-01</td>\n",
       "      <td>26.302</td>\n",
       "      <td>1.897</td>\n",
       "      <td>Indonesia</td>\n",
       "    </tr>\n",
       "    <tr>\n",
       "      <th>246312</th>\n",
       "      <td>1825-05-01</td>\n",
       "      <td>25.705</td>\n",
       "      <td>0.902</td>\n",
       "      <td>Indonesia</td>\n",
       "    </tr>\n",
       "    <tr>\n",
       "      <th>246313</th>\n",
       "      <td>1825-06-01</td>\n",
       "      <td>26.161</td>\n",
       "      <td>0.836</td>\n",
       "      <td>Indonesia</td>\n",
       "    </tr>\n",
       "    <tr>\n",
       "      <th>246314</th>\n",
       "      <td>1825-07-01</td>\n",
       "      <td>25.567</td>\n",
       "      <td>2.009</td>\n",
       "      <td>Indonesia</td>\n",
       "    </tr>\n",
       "    <tr>\n",
       "      <th>246315</th>\n",
       "      <td>1825-08-01</td>\n",
       "      <td>24.970</td>\n",
       "      <td>1.858</td>\n",
       "      <td>Indonesia</td>\n",
       "    </tr>\n",
       "    <tr>\n",
       "      <th>246316</th>\n",
       "      <td>1825-09-01</td>\n",
       "      <td>24.870</td>\n",
       "      <td>1.439</td>\n",
       "      <td>Indonesia</td>\n",
       "    </tr>\n",
       "    <tr>\n",
       "      <th>246317</th>\n",
       "      <td>1825-10-01</td>\n",
       "      <td>24.788</td>\n",
       "      <td>1.580</td>\n",
       "      <td>Indonesia</td>\n",
       "    </tr>\n",
       "  </tbody>\n",
       "</table>\n",
       "</div>"
      ],
      "text/plain": [
       "               dt  AverageTemperature  AverageTemperatureUncertainty  \\\n",
       "246308 1825-01-01              25.915                          1.825   \n",
       "246309 1825-02-01              25.385                          0.973   \n",
       "246310 1825-03-01              25.687                          1.656   \n",
       "246311 1825-04-01              26.302                          1.897   \n",
       "246312 1825-05-01              25.705                          0.902   \n",
       "246313 1825-06-01              26.161                          0.836   \n",
       "246314 1825-07-01              25.567                          2.009   \n",
       "246315 1825-08-01              24.970                          1.858   \n",
       "246316 1825-09-01              24.870                          1.439   \n",
       "246317 1825-10-01              24.788                          1.580   \n",
       "\n",
       "          Country  \n",
       "246308  Indonesia  \n",
       "246309  Indonesia  \n",
       "246310  Indonesia  \n",
       "246311  Indonesia  \n",
       "246312  Indonesia  \n",
       "246313  Indonesia  \n",
       "246314  Indonesia  \n",
       "246315  Indonesia  \n",
       "246316  Indonesia  \n",
       "246317  Indonesia  "
      ]
     },
     "metadata": {},
     "output_type": "display_data"
    }
   ],
   "source": [
    "# Format data ke year-month-day\n",
    "df_indo['dt'] = pd.to_datetime(df_indo['dt'], format=\"%Y-%m-%d\")\n",
    "\n",
    "# Urutkan data\n",
    "df_indo.sort_values('dt', inplace=True)\n",
    "\n",
    "# Cek data\n",
    "display(df_indo.head(10))"
   ]
  },
  {
   "attachments": {},
   "cell_type": "markdown",
   "metadata": {},
   "source": [
    "Pada kasus forcasting ini, kita akan menggunakan kolom '**dt**' dan '**AverageTemperature**' saja. Namun terdapat satu permasalahan. Tipe data 'date' atau tanggal tidak dapat digunakan dalam formulasi matematis regresi linier. Apa yang harus kita lakukan? **Ubah bentuknya ke dalam bentuk ordinal (transformasi)**."
   ]
  },
  {
   "cell_type": "code",
   "execution_count": 7,
   "metadata": {},
   "outputs": [
    {
     "data": {
      "text/html": [
       "<div>\n",
       "<style scoped>\n",
       "    .dataframe tbody tr th:only-of-type {\n",
       "        vertical-align: middle;\n",
       "    }\n",
       "\n",
       "    .dataframe tbody tr th {\n",
       "        vertical-align: top;\n",
       "    }\n",
       "\n",
       "    .dataframe thead th {\n",
       "        text-align: right;\n",
       "    }\n",
       "</style>\n",
       "<table border=\"1\" class=\"dataframe\">\n",
       "  <thead>\n",
       "    <tr style=\"text-align: right;\">\n",
       "      <th></th>\n",
       "      <th>dt</th>\n",
       "      <th>AverageTemperature</th>\n",
       "      <th>AverageTemperatureUncertainty</th>\n",
       "      <th>Country</th>\n",
       "    </tr>\n",
       "  </thead>\n",
       "  <tbody>\n",
       "    <tr>\n",
       "      <th>246308</th>\n",
       "      <td>666203</td>\n",
       "      <td>25.915</td>\n",
       "      <td>1.825</td>\n",
       "      <td>Indonesia</td>\n",
       "    </tr>\n",
       "    <tr>\n",
       "      <th>246309</th>\n",
       "      <td>666234</td>\n",
       "      <td>25.385</td>\n",
       "      <td>0.973</td>\n",
       "      <td>Indonesia</td>\n",
       "    </tr>\n",
       "    <tr>\n",
       "      <th>246310</th>\n",
       "      <td>666262</td>\n",
       "      <td>25.687</td>\n",
       "      <td>1.656</td>\n",
       "      <td>Indonesia</td>\n",
       "    </tr>\n",
       "    <tr>\n",
       "      <th>246311</th>\n",
       "      <td>666293</td>\n",
       "      <td>26.302</td>\n",
       "      <td>1.897</td>\n",
       "      <td>Indonesia</td>\n",
       "    </tr>\n",
       "    <tr>\n",
       "      <th>246312</th>\n",
       "      <td>666323</td>\n",
       "      <td>25.705</td>\n",
       "      <td>0.902</td>\n",
       "      <td>Indonesia</td>\n",
       "    </tr>\n",
       "    <tr>\n",
       "      <th>246313</th>\n",
       "      <td>666354</td>\n",
       "      <td>26.161</td>\n",
       "      <td>0.836</td>\n",
       "      <td>Indonesia</td>\n",
       "    </tr>\n",
       "    <tr>\n",
       "      <th>246314</th>\n",
       "      <td>666384</td>\n",
       "      <td>25.567</td>\n",
       "      <td>2.009</td>\n",
       "      <td>Indonesia</td>\n",
       "    </tr>\n",
       "    <tr>\n",
       "      <th>246315</th>\n",
       "      <td>666415</td>\n",
       "      <td>24.970</td>\n",
       "      <td>1.858</td>\n",
       "      <td>Indonesia</td>\n",
       "    </tr>\n",
       "    <tr>\n",
       "      <th>246316</th>\n",
       "      <td>666446</td>\n",
       "      <td>24.870</td>\n",
       "      <td>1.439</td>\n",
       "      <td>Indonesia</td>\n",
       "    </tr>\n",
       "    <tr>\n",
       "      <th>246317</th>\n",
       "      <td>666476</td>\n",
       "      <td>24.788</td>\n",
       "      <td>1.580</td>\n",
       "      <td>Indonesia</td>\n",
       "    </tr>\n",
       "  </tbody>\n",
       "</table>\n",
       "</div>"
      ],
      "text/plain": [
       "            dt  AverageTemperature  AverageTemperatureUncertainty    Country\n",
       "246308  666203              25.915                          1.825  Indonesia\n",
       "246309  666234              25.385                          0.973  Indonesia\n",
       "246310  666262              25.687                          1.656  Indonesia\n",
       "246311  666293              26.302                          1.897  Indonesia\n",
       "246312  666323              25.705                          0.902  Indonesia\n",
       "246313  666354              26.161                          0.836  Indonesia\n",
       "246314  666384              25.567                          2.009  Indonesia\n",
       "246315  666415              24.970                          1.858  Indonesia\n",
       "246316  666446              24.870                          1.439  Indonesia\n",
       "246317  666476              24.788                          1.580  Indonesia"
      ]
     },
     "metadata": {},
     "output_type": "display_data"
    }
   ],
   "source": [
    "# Import library yang dibutuhkan\n",
    "import datetime as dt\n",
    "\n",
    "# Transformasi data tanggal ke nilai ordinal\n",
    "df_indo['dt'] = df_indo['dt'].map(dt.datetime.toordinal)\n",
    "\n",
    "# Cek data\n",
    "display(df_indo.head(10))"
   ]
  },
  {
   "attachments": {},
   "cell_type": "markdown",
   "metadata": {},
   "source": [
    "Tanggal sudah dirubah menjadi nilai yang dapat kita guakan pada model regresi linier."
   ]
  },
  {
   "attachments": {},
   "cell_type": "markdown",
   "metadata": {},
   "source": [
    "### Data Validation"
   ]
  },
  {
   "attachments": {},
   "cell_type": "markdown",
   "metadata": {},
   "source": [
    "Sebelum masuk kepada tahap pembuatan model, kita perlu memastikan data yang kita miliki memenuhi asumsi-asumsi (jika ada) yang digunakan oleh model yang kita rencanakan. Dikarenakan pada model regresi linier meminta asumsi bahwa terdapat **korelasi** antara variabel dependen dan variabel independen, maka kita perlu melakukan pengecekan terhadap hal ini.\n",
    "\n",
    "Pada kasus ini, variabel dependen adalah '**AverageTemperature**' dan variabel independen adalah '**dt**'."
   ]
  },
  {
   "attachments": {},
   "cell_type": "markdown",
   "metadata": {},
   "source": [
    "#### Cek Korelasi"
   ]
  },
  {
   "cell_type": "code",
   "execution_count": 8,
   "metadata": {},
   "outputs": [
    {
     "data": {
      "text/plain": [
       "<AxesSubplot:>"
      ]
     },
     "execution_count": 8,
     "metadata": {},
     "output_type": "execute_result"
    },
    {
     "data": {
      "image/png": "[encoded data removed]",
      "text/plain": [
       "<Figure size 432x288 with 2 Axes>"
      ]
     },
     "metadata": {
      "needs_background": "light"
     },
     "output_type": "display_data"
    }
   ],
   "source": [
    "# Import library\n",
    "import matplotlib.pyplot as plt # visualisasi dasar\n",
    "import seaborn as sns # visualisasi high-level\n",
    "\n",
    "corr = df_indo.corr().round(2)\n",
    "plt.figure(figsize=(6,4))\n",
    "sns.heatmap(corr, annot = True, cmap = 'Blues')"
   ]
  },
  {
   "attachments": {},
   "cell_type": "markdown",
   "metadata": {},
   "source": [
    "Berdasarkan korelasi, kolom yang kita targekan miliki korelasi yang cukup baik, yaitu $0.57$. Sehingga, kita dapat berasumsi, bahwa model regresi dapat menghasilkan hasil prediksi yang cukup baik."
   ]
  },
  {
   "attachments": {},
   "cell_type": "markdown",
   "metadata": {},
   "source": [
    "## Feature Selection"
   ]
  },
  {
   "attachments": {},
   "cell_type": "markdown",
   "metadata": {},
   "source": [
    "Tahap ini biasanya digunakan untuk memilih fitur yang akan digunakan pada model. Pada kasus ini, fitur digambarkan pada nilai-nilai kolom. Namun dikarenakan yang kita gunakan kecil, dan kita sudah menentukan fitur apa yang akan digunakan, maka pada contoh ini kita cukup '*slicing*' data untuk variabel independen dan variabel dependen."
   ]
  },
  {
   "attachments": {},
   "cell_type": "markdown",
   "metadata": {},
   "source": [
    "### Slicing"
   ]
  },
  {
   "cell_type": "code",
   "execution_count": 9,
   "metadata": {},
   "outputs": [
    {
     "name": "stdout",
     "output_type": "stream",
     "text": [
      "[[666203]\n",
      " [666234]\n",
      " [666262]\n",
      " ...\n",
      " [735050]\n",
      " [735081]\n",
      " [735112]]\n"
     ]
    }
   ],
   "source": [
    "# Slicing data\n",
    "X = df_indo[['dt']].values\n",
    "y = df_indo[['AverageTemperature']].values\n",
    "\n",
    "# Cek independen variabel\n",
    "print(X)"
   ]
  },
  {
   "attachments": {},
   "cell_type": "markdown",
   "metadata": {},
   "source": [
    "### Split Data Training dan Testing"
   ]
  },
  {
   "attachments": {},
   "cell_type": "markdown",
   "metadata": {},
   "source": [
    "Selanjutnya, kita membuat data training dan testing untuk kebutuhan melatih dan menguji model regresi yang dibuat"
   ]
  },
  {
   "cell_type": "code",
   "execution_count": 10,
   "metadata": {},
   "outputs": [],
   "source": [
    "# Import library\n",
    "from sklearn.model_selection import train_test_split\n",
    "\n",
    "# split data\n",
    "X_train, X_test, y_train, y_test = train_test_split(X, y, test_size=0.3, random_state=42)"
   ]
  },
  {
   "attachments": {},
   "cell_type": "markdown",
   "metadata": {},
   "source": [
    "## Model"
   ]
  },
  {
   "attachments": {},
   "cell_type": "markdown",
   "metadata": {},
   "source": [
    "Pada bagian ini kita akan membuat model regresi linier"
   ]
  },
  {
   "cell_type": "code",
   "execution_count": 11,
   "metadata": {},
   "outputs": [
    {
     "data": {
      "text/html": [
       "<style>#sk-container-id-1 {color: black;background-color: white;}#sk-container-id-1 pre{padding: 0;}#sk-container-id-1 div.sk-toggleable {background-color: white;}#sk-container-id-1 label.sk-toggleable__label {cursor: pointer;display: block;width: 100%;margin-bottom: 0;padding: 0.3em;box-sizing: border-box;text-align: center;}#sk-container-id-1 label.sk-toggleable__label-arrow:before {content: \"▸\";float: left;margin-right: 0.25em;color: #696969;}#sk-container-id-1 label.sk-toggleable__label-arrow:hover:before {color: black;}#sk-container-id-1 div.sk-estimator:hover label.sk-toggleable__label-arrow:before {color: black;}#sk-container-id-1 div.sk-toggleable__content {max-height: 0;max-width: 0;overflow: hidden;text-align: left;background-color: #f0f8ff;}#sk-container-id-1 div.sk-toggleable__content pre {margin: 0.2em;color: black;border-radius: 0.25em;background-color: #f0f8ff;}#sk-container-id-1 input.sk-toggleable__control:checked~div.sk-toggleable__content {max-height: 200px;max-width: 100%;overflow: auto;}#sk-container-id-1 input.sk-toggleable__control:checked~label.sk-toggleable__label-arrow:before {content: \"▾\";}#sk-container-id-1 div.sk-estimator input.sk-toggleable__control:checked~label.sk-toggleable__label {background-color: #d4ebff;}#sk-container-id-1 div.sk-label input.sk-toggleable__control:checked~label.sk-toggleable__label {background-color: #d4ebff;}#sk-container-id-1 input.sk-hidden--visually {border: 0;clip: rect(1px 1px 1px 1px);clip: rect(1px, 1px, 1px, 1px);height: 1px;margin: -1px;overflow: hidden;padding: 0;position: absolute;width: 1px;}#sk-container-id-1 div.sk-estimator {font-family: monospace;background-color: #f0f8ff;border: 1px dotted black;border-radius: 0.25em;box-sizing: border-box;margin-bottom: 0.5em;}#sk-container-id-1 div.sk-estimator:hover {background-color: #d4ebff;}#sk-container-id-1 div.sk-parallel-item::after {content: \"\";width: 100%;border-bottom: 1px solid gray;flex-grow: 1;}#sk-container-id-1 div.sk-label:hover label.sk-toggleable__label {background-color: #d4ebff;}#sk-container-id-1 div.sk-serial::before {content: \"\";position: absolute;border-left: 1px solid gray;box-sizing: border-box;top: 0;bottom: 0;left: 50%;z-index: 0;}#sk-container-id-1 div.sk-serial {display: flex;flex-direction: column;align-items: center;background-color: white;padding-right: 0.2em;padding-left: 0.2em;position: relative;}#sk-container-id-1 div.sk-item {position: relative;z-index: 1;}#sk-container-id-1 div.sk-parallel {display: flex;align-items: stretch;justify-content: center;background-color: white;position: relative;}#sk-container-id-1 div.sk-item::before, #sk-container-id-1 div.sk-parallel-item::before {content: \"\";position: absolute;border-left: 1px solid gray;box-sizing: border-box;top: 0;bottom: 0;left: 50%;z-index: -1;}#sk-container-id-1 div.sk-parallel-item {display: flex;flex-direction: column;z-index: 1;position: relative;background-color: white;}#sk-container-id-1 div.sk-parallel-item:first-child::after {align-self: flex-end;width: 50%;}#sk-container-id-1 div.sk-parallel-item:last-child::after {align-self: flex-start;width: 50%;}#sk-container-id-1 div.sk-parallel-item:only-child::after {width: 0;}#sk-container-id-1 div.sk-dashed-wrapped {border: 1px dashed gray;margin: 0 0.4em 0.5em 0.4em;box-sizing: border-box;padding-bottom: 0.4em;background-color: white;}#sk-container-id-1 div.sk-label label {font-family: monospace;font-weight: bold;display: inline-block;line-height: 1.2em;}#sk-container-id-1 div.sk-label-container {text-align: center;}#sk-container-id-1 div.sk-container {/* jupyter's `normalize.less` sets `[hidden] { display: none; }` but bootstrap.min.css set `[hidden] { display: none !important; }` so we also need the `!important` here to be able to override the default hidden behavior on the sphinx rendered scikit-learn.org. See: https://github.com/scikit-learn/scikit-learn/issues/21755 */display: inline-block !important;position: relative;}#sk-container-id-1 div.sk-text-repr-fallback {display: none;}</style><div id=\"sk-container-id-1\" class=\"sk-top-container\"><div class=\"sk-text-repr-fallback\"><pre>LinearRegression()</pre><b>In a Jupyter environment, please rerun this cell to show the HTML representation or trust the notebook. <br />On GitHub, the HTML representation is unable to render, please try loading this page with nbviewer.org.</b></div><div class=\"sk-container\" hidden><div class=\"sk-item\"><div class=\"sk-estimator sk-toggleable\"><input class=\"sk-toggleable__control sk-hidden--visually\" id=\"sk-estimator-id-1\" type=\"checkbox\" checked><label for=\"sk-estimator-id-1\" class=\"sk-toggleable__label sk-toggleable__label-arrow\">LinearRegression</label><div class=\"sk-toggleable__content\"><pre>LinearRegression()</pre></div></div></div></div></div>"
      ],
      "text/plain": [
       "LinearRegression()"
      ]
     },
     "execution_count": 11,
     "metadata": {},
     "output_type": "execute_result"
    }
   ],
   "source": [
    "# Import library\n",
    "from sklearn.linear_model import LinearRegression\n",
    "\n",
    "# Inisais obyek\n",
    "lr = LinearRegression()\n",
    "\n",
    "# Latih model\n",
    "lr.fit(X_train, y_train)"
   ]
  },
  {
   "attachments": {},
   "cell_type": "markdown",
   "metadata": {},
   "source": [
    "### Visualisasi Model (Data Training)"
   ]
  },
  {
   "attachments": {},
   "cell_type": "markdown",
   "metadata": {},
   "source": [
    "Pada model regresi, kita dapat dengan memudah melakukan inspeksi visual terhadap model yang dihasilkan, apalagi data hanya 2 dimensi."
   ]
  },
  {
   "cell_type": "code",
   "execution_count": 12,
   "metadata": {},
   "outputs": [
    {
     "data": {
      "image/png": "[encoded data removed]",
      "text/plain": [
       "<Figure size 1080x720 with 1 Axes>"
      ]
     },
     "metadata": {
      "needs_background": "light"
     },
     "output_type": "display_data"
    }
   ],
   "source": [
    "# Transformasi kembali data tanggal format ordinal\n",
    "# ke format year-month-day\n",
    "\n",
    "# Ubah ke dataframe untuk memudahkan\n",
    "X_train_date = pd.DataFrame(X_train.flatten(), columns=['date'])\n",
    "\n",
    "# Ubah kembali ke year-month-day\n",
    "X_train_date['date'] = X_train_date['date'].astype(int).map(dt.date.fromordinal)\n",
    "\n",
    "# Visualisasi model berdasarkan hasil training\n",
    "plt.figure(figsize=(15,10))\n",
    "plt.plot_date(X_train_date['date'].values, y_train, color = 'red')\n",
    "plt.plot(X_train_date['date'].values, lr.predict(X_train), color = 'blue')\n",
    "plt.title('Tren Suhu Permukaan Tanah di Indonesia')\n",
    "plt.xlabel('Waktu')\n",
    "plt.ylabel('Suhu')\n",
    "plt.show()"
   ]
  },
  {
   "attachments": {},
   "cell_type": "markdown",
   "metadata": {},
   "source": [
    "### Prediksi"
   ]
  },
  {
   "attachments": {},
   "cell_type": "markdown",
   "metadata": {},
   "source": [
    "Selanjutnya, kita coba uji model dengan data testing untuk mengetahui apakah model yang dibuat sudah bekerja dengan baik"
   ]
  },
  {
   "cell_type": "code",
   "execution_count": 13,
   "metadata": {},
   "outputs": [],
   "source": [
    "y_pred = lr.predict(X_test)"
   ]
  },
  {
   "attachments": {},
   "cell_type": "markdown",
   "metadata": {},
   "source": [
    "### Visuaslisasi Hasil Prediksi"
   ]
  },
  {
   "cell_type": "code",
   "execution_count": 14,
   "metadata": {},
   "outputs": [
    {
     "data": {
      "image/png": "[encoded data removed]",
      "text/plain": [
       "<Figure size 1080x720 with 1 Axes>"
      ]
     },
     "metadata": {
      "needs_background": "light"
     },
     "output_type": "display_data"
    }
   ],
   "source": [
    "# Transformasi kembali data tanggal format ordinal\n",
    "# ke format year-month-day\n",
    "\n",
    "# Ubah ke dataframe untuk memudahkan\n",
    "X_test_date = pd.DataFrame(X_test.flatten(), columns=['date'])\n",
    "\n",
    "# Ubah kembali ke year-month-day\n",
    "X_test_date['date'] = X_test_date['date'].astype(int).map(dt.date.fromordinal)\n",
    "\n",
    "# Visualisasi model berdasarkan hasil training\n",
    "plt.figure(figsize=(15,10))\n",
    "plt.plot_date(X_test_date['date'].values, y_test, color = 'red')\n",
    "plt.plot(X_train_date['date'].values, lr.predict(X_train), color = 'blue')\n",
    "plt.title('Tren Suhu Permukaan Tanah di Indonesia (Data Testing)')\n",
    "plt.xlabel('Waktu')\n",
    "plt.ylabel('Suhu')\n",
    "plt.show()"
   ]
  },
  {
   "attachments": {},
   "cell_type": "markdown",
   "metadata": {},
   "source": [
    "## Evaluasi Model"
   ]
  },
  {
   "attachments": {},
   "cell_type": "markdown",
   "metadata": {},
   "source": [
    "Selain melalui inspeksi visual, kita dapat melakukan perhitungan untuk mengevaluasi model yang kita buat. Pada kasus regresi, terdapat beberapa metric yang dapat digunakan untuk evaluasi, salah diantaranya adalah nilai $R^2$"
   ]
  },
  {
   "cell_type": "code",
   "execution_count": 15,
   "metadata": {},
   "outputs": [
    {
     "name": "stdout",
     "output_type": "stream",
     "text": [
      "Skor R2: 0.3292837594043757\n"
     ]
    }
   ],
   "source": [
    "from sklearn.metrics import r2_score\n",
    "\n",
    "# Kalklasi r-square\n",
    "r2_score = r2_score(y_test, y_pred)\n",
    "\n",
    "print(f'Skor R2: {r2_score}')"
   ]
  },
  {
   "attachments": {},
   "cell_type": "markdown",
   "metadata": {},
   "source": [
    "Hasil evaluasi $R^2$ menunjukkan nilai yang mendekati 0. Hal ini menandakan, model regresi linier yang dibuat kurang baik dalam memprediksi tren. Mengapa demikian? Karena tidak seharusnya data tanggal menjadi ajuan kenaikkan suhu. Kita dapat menggunakan data-data lain yang lebih revelan."
   ]
  }
 ],
 "metadata": {
  "kernelspec": {
   "display_name": "base",
   "language": "python",
   "name": "python3"
  },
  "language_info": {
   "codemirror_mode": {
    "name": "ipython",
    "version": 3
   },
   "file_extension": ".py",
   "mimetype": "text/x-python",
   "name": "python",
   "nbconvert_exporter": "python",
   "pygments_lexer": "ipython3",
   "version": "3.8.2"
  },
  "orig_nbformat": 4,
  "vscode": {
   "interpreter": {
    "hash": "398dc28c06ad810e77de546bbdfa897a6ee0b83e59a5207339dda01a7843e01d"
   }
  }
 },
 "nbformat": 4,
 "nbformat_minor": 2
}
